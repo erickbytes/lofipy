{
 "cells": [
  {
   "cell_type": "code",
   "execution_count": 1,
   "id": "f7eb2ded-90e9-4b8f-be91-0bc73293313a",
   "metadata": {},
   "outputs": [],
   "source": [
    "import pprint\n",
    "import matplotlib.pyplot as plt\n",
    "import seaborn as sns\n",
    "import pandas as pd"
   ]
  },
  {
   "cell_type": "code",
   "execution_count": 2,
   "id": "eef1af08-3723-4f55-9be6-72ca6c5838fe",
   "metadata": {},
   "outputs": [],
   "source": [
    "# Set Seaborn styling.\n",
    "sns.set()"
   ]
  },
  {
   "cell_type": "code",
   "execution_count": 3,
   "id": "85bad112-c301-422e-b2ba-279ccad914f8",
   "metadata": {},
   "outputs": [
    {
     "name": "stdout",
     "output_type": "stream",
     "text": [
      "{'2016': {'Jan': 0,\n",
      "          'Feb': 6,\n",
      "          'Mar': 10,\n",
      "          'Apr': 3,\n",
      "          'May': 3,\n",
      "          'June': 3,\n",
      "          'July': 0,\n",
      "          'Aug': 0,\n",
      "          'Sept': 1,\n",
      "          'Oct': 0,\n",
      "          'Nov': 0,\n",
      "          'Dec': 2},\n",
      " '2017': {'Jan': 1,\n",
      "          'Feb': 2,\n",
      "          'Mar': 0,\n",
      "          'Apr': 1,\n",
      "          'May': 0,\n",
      "          'June': 1,\n",
      "          'July': 3,\n",
      "          'Aug': 16,\n",
      "          'Sept': 2,\n",
      "          'Oct': 3,\n",
      "          'Nov': 3,\n",
      "          'Dec': 2},\n",
      " '2018': {'Jan': 14,\n",
      "          'Feb': 17,\n",
      "          'Mar': 41,\n",
      "          'Apr': 34,\n",
      "          'May': 31,\n",
      "          'June': 29,\n",
      "          'July': 22,\n",
      "          'Aug': 21,\n",
      "          'Sept': 34,\n",
      "          'Oct': 51,\n",
      "          'Nov': 39,\n",
      "          'Dec': 44},\n",
      " '2019': {'Jan': 69,\n",
      "          'Feb': 50,\n",
      "          'Mar': 46,\n",
      "          'Apr': 89,\n",
      "          'May': 82,\n",
      "          'June': 80,\n",
      "          'July': 141,\n",
      "          'Aug': 116,\n",
      "          'Sept': 26,\n",
      "          'Oct': 37,\n",
      "          'Nov': 52,\n",
      "          'Dec': 51},\n",
      " '2020': {'Jan': 73,\n",
      "          'Feb': 81,\n",
      "          'Mar': 81,\n",
      "          'Apr': 149,\n",
      "          'May': 195,\n",
      "          'June': 329,\n",
      "          'July': 217,\n",
      "          'Aug': 267,\n",
      "          'Sept': 341,\n",
      "          'Oct': 385,\n",
      "          'Nov': 564,\n",
      "          'Dec': 609},\n",
      " '2021': {'Jan': 658,\n",
      "          'Feb': 528,\n",
      "          'Mar': 834,\n",
      "          'Apr': 1148,\n",
      "          'May': 1320,\n",
      "          'June': 1373,\n",
      "          'July': 1158,\n",
      "          'Aug': 1189,\n",
      "          'Sept': 1232,\n",
      "          'Oct': 1274,\n",
      "          'Nov': 1539,\n",
      "          'Dec': 1328},\n",
      " '2022': {'Jan': 1544,\n",
      "          'Feb': 1584,\n",
      "          'Mar': 1499,\n",
      "          'Apr': 1345,\n",
      "          'May': 1350,\n",
      "          'June': 1261,\n",
      "          'July': 1151,\n",
      "          'Aug': 1129,\n",
      "          'Sept': 1193,\n",
      "          'Oct': 1167,\n",
      "          'Nov': 1116,\n",
      "          'Dec': 999},\n",
      " '2023': {'Jan': 1011,\n",
      "          'Feb': 1018,\n",
      "          'Mar': 1092,\n",
      "          'Apr': 780,\n",
      "          'May': 2000,\n",
      "          'June': 3000,\n",
      "          'July': 3870,\n",
      "          'Aug': 4100}}\n"
     ]
    }
   ],
   "source": [
    "unique_readers = {\n",
    "    \"2016\": {\n",
    "        \"Jan\": 0,\n",
    "        \"Feb\": 6,\n",
    "        \"Mar\": 10,\n",
    "        \"Apr\": 3,\n",
    "        \"May\": 3,\n",
    "        \"June\": 3,\n",
    "        \"July\": 0,\n",
    "        \"Aug\": 0,\n",
    "        \"Sept\": 1,\n",
    "        \"Oct\": 0,\n",
    "        \"Nov\": 0,\n",
    "        \"Dec\": 2,\n",
    "    },\n",
    "    \"2017\": {\n",
    "        \"Jan\": 1,\n",
    "        \"Feb\": 2,\n",
    "        \"Mar\": 0,\n",
    "        \"Apr\": 1,\n",
    "        \"May\": 0,\n",
    "        \"June\": 1,\n",
    "        \"July\": 3,\n",
    "        \"Aug\": 16,\n",
    "        \"Sept\": 2,\n",
    "        \"Oct\": 3,\n",
    "        \"Nov\": 3,\n",
    "        \"Dec\": 2,\n",
    "    },\n",
    "    \"2018\": {\n",
    "        \"Jan\": 14,\n",
    "        \"Feb\": 17,\n",
    "        \"Mar\": 41,\n",
    "        \"Apr\": 34,\n",
    "        \"May\": 31,\n",
    "        \"June\": 29,\n",
    "        \"July\": 22,\n",
    "        \"Aug\": 21,\n",
    "        \"Sept\": 34,\n",
    "        \"Oct\": 51,\n",
    "        \"Nov\": 39,\n",
    "        \"Dec\": 44,\n",
    "    },\n",
    "    \"2019\": {\n",
    "        \"Jan\": 69,\n",
    "        \"Feb\": 50,\n",
    "        \"Mar\": 46,\n",
    "        \"Apr\": 89,\n",
    "        \"May\": 82,\n",
    "        \"June\": 80,\n",
    "        \"July\": 141,\n",
    "        \"Aug\": 116,\n",
    "        \"Sept\": 26,\n",
    "        \"Oct\": 37,\n",
    "        \"Nov\": 52,\n",
    "        \"Dec\": 51,\n",
    "    },\n",
    "    \"2020\": {\n",
    "        \"Jan\": 73,\n",
    "        \"Feb\": 81,\n",
    "        \"Mar\": 81,\n",
    "        \"Apr\": 149,\n",
    "        \"May\": 195,\n",
    "        \"June\": 329,\n",
    "        \"July\": 217,\n",
    "        \"Aug\": 267,\n",
    "        \"Sept\": 341,\n",
    "        \"Oct\": 385,\n",
    "        \"Nov\": 564,\n",
    "        \"Dec\": 609,\n",
    "    },\n",
    "    \"2021\": {\n",
    "        \"Jan\": 658,\n",
    "        \"Feb\": 528,\n",
    "        \"Mar\": 834,\n",
    "        \"Apr\": 1148,\n",
    "        \"May\": 1320,\n",
    "        \"June\": 1373,\n",
    "        \"July\": 1158,\n",
    "        \"Aug\": 1189,\n",
    "        \"Sept\": 1232,\n",
    "        \"Oct\": 1274,\n",
    "        \"Nov\": 1539,\n",
    "        \"Dec\": 1328,\n",
    "    },\n",
    "    \"2022\": {\n",
    "        \"Jan\": 1544,\n",
    "        \"Feb\": 1584,\n",
    "        \"Mar\": 1499,\n",
    "        \"Apr\": 1345,\n",
    "        \"May\": 1350,\n",
    "        \"June\": 1261,\n",
    "        \"July\": 1151,\n",
    "        \"Aug\": 1129,\n",
    "        \"Sept\": 1193,\n",
    "        \"Oct\": 1167,\n",
    "        \"Nov\": 1116,\n",
    "        \"Dec\": 999,\n",
    "    },\n",
    "    \"2023\": {\n",
    "        \"Jan\": 1011,\n",
    "        \"Feb\": 1018,\n",
    "        \"Mar\": 1092,\n",
    "        \"Apr\": 780,\n",
    "        \"May\": 2000,\n",
    "        \"June\": 3000,\n",
    "        \"July\": 3870,\n",
    "        \"Aug\": 4100,\n",
    "    },\n",
    "}\n",
    "pprint.pprint(unique_readers, sort_dicts=False)"
   ]
  },
  {
   "cell_type": "code",
   "execution_count": 10,
   "id": "0545d905-a4bd-47cd-aaa4-df1c4d7d6112",
   "metadata": {},
   "outputs": [
    {
     "name": "stdout",
     "output_type": "stream",
     "text": [
      "Wordpress Blog Views 2016-2022: 33488\n",
      "\n",
      "Annual Unique Visitor Totals\n"
     ]
    },
    {
     "data": {
      "text/plain": [
       "[('2016', 28),\n",
       " ('2017', 34),\n",
       " ('2018', 377),\n",
       " ('2019', 839),\n",
       " ('2020', 3291),\n",
       " ('2021', 13581),\n",
       " ('2022', 15338)]"
      ]
     },
     "execution_count": 10,
     "metadata": {},
     "output_type": "execute_result"
    }
   ],
   "source": [
    "# Wordpress hosted \"PythonMarketer.com\" from 2016 - 2023 (5 months).\n",
    "wordpress_years = [\"2016\",\"2017\",\"2018\",\"2019\",\"2020\",\"2021\",\"2022\"]\n",
    "counts = [sum(unique_readers[year].values()) for year in wordpress_years]\n",
    "print(f\"Wordpress Blog Views 2016-2022: {sum(counts)}\\n\")\n",
    "counts = [(year, sum(unique_readers[year].values())) for year in wordpress_years]\n",
    "print(\"Annual Unique Visitor Totals\")\n",
    "counts"
   ]
  },
  {
   "cell_type": "code",
   "execution_count": 5,
   "id": "68540977-7666-43d8-8a12-0a10bf8251ad",
   "metadata": {},
   "outputs": [
    {
     "name": "stdout",
     "output_type": "stream",
     "text": [
      "lofipython.com eclipsed 10,000 unique readers in 4 months, with 12470 visitors from May to August 2023.\n"
     ]
    }
   ],
   "source": [
    "# The lofipython.com Cloudflare domain went live on May 17th, 2023.\n",
    "cloudflare_months = [\"June\",\"July\",\"Aug\"]\n",
    "counts = [unique_readers[\"2023\"].get(month) for month in cloudflare_months]     \n",
    "# Add 1,500 Cloudflare readers for May. Wordpress contributed about 500 readers in May.\n",
    "counts.append(1500)\n",
    "print(f\"lofipython.com eclipsed 10,000 unique readers in 4 months, with {sum(counts)} visitors from May to August 2023.\")"
   ]
  },
  {
   "cell_type": "code",
   "execution_count": 6,
   "id": "b70bc54b-ca7a-4652-8c56-f90d220e595c",
   "metadata": {},
   "outputs": [
    {
     "name": "stdout",
     "output_type": "stream",
     "text": [
      "The first 5 years of the blog only had 4569 unique readers.\n",
      "YTD unique readers, PythonMarketer.com (deactivated) + lofipython.com: 16871\n"
     ]
    }
   ],
   "source": [
    "years = [\"2016\",\"2017\",\"2018\",\"2019\",\"2020\"]\n",
    "counts = [sum(unique_readers[year].values()) for year in years]\n",
    "print(f\"The first 5 years of the blog had {sum(counts)} unique readers.\")\n",
    "print(f\"YTD unique readers, PythonMarketer.com (deactivated) + lofipython.com: {sum(unique_readers['2023'].values())}\")"
   ]
  },
  {
   "cell_type": "code",
   "execution_count": 7,
   "id": "0cd29f3a-f529-41c0-bb7a-a06b2f49086c",
   "metadata": {},
   "outputs": [
    {
     "data": {
      "text/plain": [
       "[('2016', 28),\n",
       " ('2017', 34),\n",
       " ('2018', 377),\n",
       " ('2019', 839),\n",
       " ('2020', 3291),\n",
       " ('2021', 13581),\n",
       " ('2022', 15338),\n",
       " ('2023', 16871)]"
      ]
     },
     "execution_count": 7,
     "metadata": {},
     "output_type": "execute_result"
    }
   ],
   "source": [
    "years = [\"2016\",\"2017\",\"2018\",\"2019\",\"2020\",\"2021\",\"2022\",\"2023\"]\n",
    "counts = [(year, sum(unique_readers[year].values())) for year in years]\n",
    "counts"
   ]
  },
  {
   "cell_type": "code",
   "execution_count": 8,
   "id": "30d410ca-4023-48cc-987f-85ceedd9992e",
   "metadata": {},
   "outputs": [
    {
     "data": {
      "text/html": [
       "<style type=\"text/css\">\n",
       "</style>\n",
       "<table id=\"T_05830\">\n",
       "  <thead>\n",
       "    <tr>\n",
       "      <th id=\"T_05830_level0_col0\" class=\"col_heading level0 col0\" >year</th>\n",
       "      <th id=\"T_05830_level0_col1\" class=\"col_heading level0 col1\" >readers</th>\n",
       "      <th id=\"T_05830_level0_col2\" class=\"col_heading level0 col2\" >monthly_average</th>\n",
       "    </tr>\n",
       "  </thead>\n",
       "  <tbody>\n",
       "    <tr>\n",
       "      <td id=\"T_05830_row0_col0\" class=\"data row0 col0\" >2016</td>\n",
       "      <td id=\"T_05830_row0_col1\" class=\"data row0 col1\" >28</td>\n",
       "      <td id=\"T_05830_row0_col2\" class=\"data row0 col2\" >2</td>\n",
       "    </tr>\n",
       "    <tr>\n",
       "      <td id=\"T_05830_row1_col0\" class=\"data row1 col0\" >2017</td>\n",
       "      <td id=\"T_05830_row1_col1\" class=\"data row1 col1\" >34</td>\n",
       "      <td id=\"T_05830_row1_col2\" class=\"data row1 col2\" >2</td>\n",
       "    </tr>\n",
       "    <tr>\n",
       "      <td id=\"T_05830_row2_col0\" class=\"data row2 col0\" >2018</td>\n",
       "      <td id=\"T_05830_row2_col1\" class=\"data row2 col1\" >377</td>\n",
       "      <td id=\"T_05830_row2_col2\" class=\"data row2 col2\" >31</td>\n",
       "    </tr>\n",
       "    <tr>\n",
       "      <td id=\"T_05830_row3_col0\" class=\"data row3 col0\" >2019</td>\n",
       "      <td id=\"T_05830_row3_col1\" class=\"data row3 col1\" >839</td>\n",
       "      <td id=\"T_05830_row3_col2\" class=\"data row3 col2\" >69</td>\n",
       "    </tr>\n",
       "    <tr>\n",
       "      <td id=\"T_05830_row4_col0\" class=\"data row4 col0\" >2020</td>\n",
       "      <td id=\"T_05830_row4_col1\" class=\"data row4 col1\" >3291</td>\n",
       "      <td id=\"T_05830_row4_col2\" class=\"data row4 col2\" >274</td>\n",
       "    </tr>\n",
       "    <tr>\n",
       "      <td id=\"T_05830_row5_col0\" class=\"data row5 col0\" >2021</td>\n",
       "      <td id=\"T_05830_row5_col1\" class=\"data row5 col1\" >13581</td>\n",
       "      <td id=\"T_05830_row5_col2\" class=\"data row5 col2\" >1131</td>\n",
       "    </tr>\n",
       "    <tr>\n",
       "      <td id=\"T_05830_row6_col0\" class=\"data row6 col0\" >2022</td>\n",
       "      <td id=\"T_05830_row6_col1\" class=\"data row6 col1\" >15338</td>\n",
       "      <td id=\"T_05830_row6_col2\" class=\"data row6 col2\" >1278</td>\n",
       "    </tr>\n",
       "    <tr>\n",
       "      <td id=\"T_05830_row7_col0\" class=\"data row7 col0\" >2023</td>\n",
       "      <td id=\"T_05830_row7_col1\" class=\"data row7 col1\" >16871</td>\n",
       "      <td id=\"T_05830_row7_col2\" class=\"data row7 col2\" >2108</td>\n",
       "    </tr>\n",
       "  </tbody>\n",
       "</table>\n"
      ],
      "text/plain": [
       "<pandas.io.formats.style.Styler at 0x7daceabf8ee0>"
      ]
     },
     "execution_count": 8,
     "metadata": {},
     "output_type": "execute_result"
    }
   ],
   "source": [
    "readers = pd.DataFrame(counts, columns=[\"year\",\"readers\"])\n",
    "readers[\"monthly_average\"] = readers.readers.apply(lambda num: int(num/12))\n",
    "# Only 8 months in 2023 so far.\n",
    "ytd_readers = sum(unique_readers[\"2023\"].values())\n",
    "readers.loc[7, \"monthly_average\"] = int(ytd_readers/8)\n",
    "readers.style.hide()"
   ]
  },
  {
   "cell_type": "code",
   "execution_count": 9,
   "id": "676810b4-ead1-44e5-a7df-df67d5f221a3",
   "metadata": {},
   "outputs": [
    {
     "name": "stderr",
     "output_type": "stream",
     "text": [
      "/tmp/ipykernel_9321/2494606459.py:3: UserWarning: FixedFormatter should only be used together with FixedLocator\n",
      "  ax.set_xticklabels(years)\n"
     ]
    },
    {
     "data": {
      "image/png": "[encoded data removed]",
      "text/plain": [
       "<Figure size 640x480 with 1 Axes>"
      ]
     },
     "metadata": {},
     "output_type": "display_data"
    }
   ],
   "source": [
    "ax = readers[\"monthly_average\"].plot(kind=\"line\", title=\"Average Readers Per Month, 2016-2023\")\n",
    "years = [\"axis filler\"] + list(readers.year)\n",
    "ax.set_xticklabels(years)\n",
    "plt.show()"
   ]
  }
 ],
 "metadata": {
  "kernelspec": {
   "display_name": "Python 3 (ipykernel)",
   "language": "python",
   "name": "python3"
  },
  "language_info": {
   "codemirror_mode": {
    "name": "ipython",
    "version": 3
   },
   "file_extension": ".py",
   "mimetype": "text/x-python",
   "name": "python",
   "nbconvert_exporter": "python",
   "pygments_lexer": "ipython3",
   "version": "3.9.1"
  }
 },
 "nbformat": 4,
 "nbformat_minor": 5
}
