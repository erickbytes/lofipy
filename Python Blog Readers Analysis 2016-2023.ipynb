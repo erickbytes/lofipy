{
 "cells": [
  {
   "cell_type": "code",
   "execution_count": 13,
   "id": "f7eb2ded-90e9-4b8f-be91-0bc73293313a",
   "metadata": {},
   "outputs": [],
   "source": [
    "import pprint\n",
    "import matplotlib.pyplot as plt\n",
    "import seaborn as sns\n",
    "import pandas as pd"
   ]
  },
  {
   "cell_type": "code",
   "execution_count": 14,
   "id": "eef1af08-3723-4f55-9be6-72ca6c5838fe",
   "metadata": {},
   "outputs": [],
   "source": [
    "# Set Seaborn styling.\n",
    "sns.set()"
   ]
  },
  {
   "cell_type": "code",
   "execution_count": 15,
   "id": "85bad112-c301-422e-b2ba-279ccad914f8",
   "metadata": {},
   "outputs": [
    {
     "name": "stdout",
     "output_type": "stream",
     "text": [
      "{'2016': {'Jan': 0,\n",
      "          'Feb': 6,\n",
      "          'Mar': 10,\n",
      "          'Apr': 3,\n",
      "          'May': 3,\n",
      "          'June': 3,\n",
      "          'July': 0,\n",
      "          'Aug': 0,\n",
      "          'Sept': 1,\n",
      "          'Oct': 0,\n",
      "          'Nov': 0,\n",
      "          'Dec': 2},\n",
      " '2017': {'Jan': 1,\n",
      "          'Feb': 2,\n",
      "          'Mar': 0,\n",
      "          'Apr': 1,\n",
      "          'May': 0,\n",
      "          'June': 1,\n",
      "          'July': 3,\n",
      "          'Aug': 16,\n",
      "          'Sept': 2,\n",
      "          'Oct': 3,\n",
      "          'Nov': 3,\n",
      "          'Dec': 2},\n",
      " '2018': {'Jan': 14,\n",
      "          'Feb': 17,\n",
      "          'Mar': 41,\n",
      "          'Apr': 34,\n",
      "          'May': 31,\n",
      "          'June': 29,\n",
      "          'July': 22,\n",
      "          'Aug': 21,\n",
      "          'Sept': 34,\n",
      "          'Oct': 51,\n",
      "          'Nov': 39,\n",
      "          'Dec': 44},\n",
      " '2019': {'Jan': 69,\n",
      "          'Feb': 50,\n",
      "          'Mar': 46,\n",
      "          'Apr': 89,\n",
      "          'May': 82,\n",
      "          'June': 80,\n",
      "          'July': 141,\n",
      "          'Aug': 116,\n",
      "          'Sept': 26,\n",
      "          'Oct': 37,\n",
      "          'Nov': 52,\n",
      "          'Dec': 51},\n",
      " '2020': {'Jan': 73,\n",
      "          'Feb': 81,\n",
      "          'Mar': 81,\n",
      "          'Apr': 149,\n",
      "          'May': 195,\n",
      "          'June': 329,\n",
      "          'July': 217,\n",
      "          'Aug': 267,\n",
      "          'Sept': 341,\n",
      "          'Oct': 385,\n",
      "          'Nov': 564,\n",
      "          'Dec': 609},\n",
      " '2021': {'Jan': 658,\n",
      "          'Feb': 528,\n",
      "          'Mar': 834,\n",
      "          'Apr': 1148,\n",
      "          'May': 1320,\n",
      "          'June': 1373,\n",
      "          'July': 1158,\n",
      "          'Aug': 1189,\n",
      "          'Sept': 1232,\n",
      "          'Oct': 1274,\n",
      "          'Nov': 1539,\n",
      "          'Dec': 1328},\n",
      " '2022': {'Jan': 1544,\n",
      "          'Feb': 1584,\n",
      "          'Mar': 1499,\n",
      "          'Apr': 1345,\n",
      "          'May': 1350,\n",
      "          'June': 1261,\n",
      "          'July': 1151,\n",
      "          'Aug': 1129,\n",
      "          'Sept': 1193,\n",
      "          'Oct': 1167,\n",
      "          'Nov': 1116,\n",
      "          'Dec': 999},\n",
      " '2023': {'Jan': 1011,\n",
      "          'Feb': 1018,\n",
      "          'Mar': 1092,\n",
      "          'Apr': 780,\n",
      "          'May': 2000,\n",
      "          'June': 3000,\n",
      "          'July': 3870,\n",
      "          'Aug': 4510,\n",
      "          'Sept': 4680,\n",
      "          'Oct': 3760,\n",
      "          'Nov': 4570}}\n"
     ]
    }
   ],
   "source": [
    "unique_readers = {\n",
    "    \"2016\": {\n",
    "        \"Jan\": 0,\n",
    "        \"Feb\": 6,\n",
    "        \"Mar\": 10,\n",
    "        \"Apr\": 3,\n",
    "        \"May\": 3,\n",
    "        \"June\": 3,\n",
    "        \"July\": 0,\n",
    "        \"Aug\": 0,\n",
    "        \"Sept\": 1,\n",
    "        \"Oct\": 0,\n",
    "        \"Nov\": 0,\n",
    "        \"Dec\": 2,\n",
    "    },\n",
    "    \"2017\": {\n",
    "        \"Jan\": 1,\n",
    "        \"Feb\": 2,\n",
    "        \"Mar\": 0,\n",
    "        \"Apr\": 1,\n",
    "        \"May\": 0,\n",
    "        \"June\": 1,\n",
    "        \"July\": 3,\n",
    "        \"Aug\": 16,\n",
    "        \"Sept\": 2,\n",
    "        \"Oct\": 3,\n",
    "        \"Nov\": 3,\n",
    "        \"Dec\": 2,\n",
    "    },\n",
    "    \"2018\": {\n",
    "        \"Jan\": 14,\n",
    "        \"Feb\": 17,\n",
    "        \"Mar\": 41,\n",
    "        \"Apr\": 34,\n",
    "        \"May\": 31,\n",
    "        \"June\": 29,\n",
    "        \"July\": 22,\n",
    "        \"Aug\": 21,\n",
    "        \"Sept\": 34,\n",
    "        \"Oct\": 51,\n",
    "        \"Nov\": 39,\n",
    "        \"Dec\": 44,\n",
    "    },\n",
    "    \"2019\": {\n",
    "        \"Jan\": 69,\n",
    "        \"Feb\": 50,\n",
    "        \"Mar\": 46,\n",
    "        \"Apr\": 89,\n",
    "        \"May\": 82,\n",
    "        \"June\": 80,\n",
    "        \"July\": 141,\n",
    "        \"Aug\": 116,\n",
    "        \"Sept\": 26,\n",
    "        \"Oct\": 37,\n",
    "        \"Nov\": 52,\n",
    "        \"Dec\": 51,\n",
    "    },\n",
    "    \"2020\": {\n",
    "        \"Jan\": 73,\n",
    "        \"Feb\": 81,\n",
    "        \"Mar\": 81,\n",
    "        \"Apr\": 149,\n",
    "        \"May\": 195,\n",
    "        \"June\": 329,\n",
    "        \"July\": 217,\n",
    "        \"Aug\": 267,\n",
    "        \"Sept\": 341,\n",
    "        \"Oct\": 385,\n",
    "        \"Nov\": 564,\n",
    "        \"Dec\": 609,\n",
    "    },\n",
    "    \"2021\": {\n",
    "        \"Jan\": 658,\n",
    "        \"Feb\": 528,\n",
    "        \"Mar\": 834,\n",
    "        \"Apr\": 1148,\n",
    "        \"May\": 1320,\n",
    "        \"June\": 1373,\n",
    "        \"July\": 1158,\n",
    "        \"Aug\": 1189,\n",
    "        \"Sept\": 1232,\n",
    "        \"Oct\": 1274,\n",
    "        \"Nov\": 1539,\n",
    "        \"Dec\": 1328,\n",
    "    },\n",
    "    \"2022\": {\n",
    "        \"Jan\": 1544,\n",
    "        \"Feb\": 1584,\n",
    "        \"Mar\": 1499,\n",
    "        \"Apr\": 1345,\n",
    "        \"May\": 1350,\n",
    "        \"June\": 1261,\n",
    "        \"July\": 1151,\n",
    "        \"Aug\": 1129,\n",
    "        \"Sept\": 1193,\n",
    "        \"Oct\": 1167,\n",
    "        \"Nov\": 1116,\n",
    "        \"Dec\": 999,\n",
    "    },\n",
    "    \"2023\": {\n",
    "        \"Jan\": 1011,\n",
    "        \"Feb\": 1018,\n",
    "        \"Mar\": 1092,\n",
    "        \"Apr\": 780,\n",
    "        \"May\": 2000,\n",
    "        \"June\": 3000,\n",
    "        \"July\": 3870,\n",
    "        \"Aug\": 4510,\n",
    "        \"Sept\": 4680,\n",
    "        \"Oct\": 3760,\n",
    "        \"Nov\": 4570\n",
    "    },\n",
    "}\n",
    "pprint.pprint(unique_readers, sort_dicts=False)"
   ]
  },
  {
   "cell_type": "code",
   "execution_count": 16,
   "id": "0545d905-a4bd-47cd-aaa4-df1c4d7d6112",
   "metadata": {},
   "outputs": [
    {
     "name": "stdout",
     "output_type": "stream",
     "text": [
      "Wordpress hosted PythonMarketer.com from 2016 - 2023 (5 months in 2023).\n",
      "Total Wordpress blog readers, 2016-2023: 37,873\n"
     ]
    }
   ],
   "source": [
    "print(\"Wordpress hosted PythonMarketer.com from 2016 - 2023 (5 months in 2023).\")\n",
    "wordpress_years = [\"2016\", \"2017\", \"2018\", \"2019\", \"2020\", \"2021\", \"2022\"]\n",
    "counts = [sum(unique_readers[year].values()) for year in wordpress_years]\n",
    "months = [\"Jan\", \"Feb\", \"Mar\", \"Apr\"]\n",
    "ytd_counts = [unique_readers[\"2023\"].get(month) for month in months]\n",
    "counts = ytd_counts + counts\n",
    "# May Wordpress views\n",
    "counts.append(484)\n",
    "wordpress_unique_visitors = sum(counts)\n",
    "print(f\"Total Wordpress blog readers, 2016-2023: {wordpress_unique_visitors:,}\")"
   ]
  },
  {
   "cell_type": "code",
   "execution_count": 17,
   "id": "68540977-7666-43d8-8a12-0a10bf8251ad",
   "metadata": {},
   "outputs": [
    {
     "name": "stdout",
     "output_type": "stream",
     "text": [
      "On May 17th 2023, the lofipython.com Cloudflare Pages domain went live.\n",
      "The converted Pelican blog began with 100 posts from PythonMarketer.com \\ Wordpress (deactivated).\n",
      "In May to August 2023, lofipython.com amassed 12,880 unique visitors.\n",
      "In 4 months, the new blog reached 34% of its total unique visitors from the previous 8 years.\n"
     ]
    }
   ],
   "source": [
    "print(\"On May 17th 2023, the lofipython.com Cloudflare Pages domain went live.\")\n",
    "print(\"The converted Pelican blog began with 100 posts from PythonMarketer.com \\ Wordpress (deactivated).\")\n",
    "cloudflare_months = [\"June\", \"July\", \"Aug\"]\n",
    "counts = [unique_readers[\"2023\"].get(month) for month in cloudflare_months]\n",
    "# Add 1,500 Cloudflare readers in May migration month, split w/ Wordpress.\n",
    "counts.append(1500)\n",
    "print(f\"In May to August 2023, lofipython.com amassed {sum(counts):,} unique visitors.\")\n",
    "percent = int((sum(counts) / wordpress_unique_visitors) * 100)\n",
    "print(f\"In 4 months, the new blog reached {percent}% of its total unique visitors from the previous 8 years.\")"
   ]
  },
  {
   "cell_type": "code",
   "execution_count": 18,
   "id": "b70bc54b-ca7a-4652-8c56-f90d220e595c",
   "metadata": {},
   "outputs": [
    {
     "name": "stdout",
     "output_type": "stream",
     "text": [
      "Blog unique visitors, first 5 years: 4,569\n",
      "Blog unique visitors, 2023: 30,291\n"
     ]
    }
   ],
   "source": [
    "years = [\"2016\", \"2017\", \"2018\", \"2019\", \"2020\"]\n",
    "counts = [sum(unique_readers[year].values()) for year in years]\n",
    "print(f\"Blog unique visitors, first 5 years: {sum(counts):,}\")\n",
    "print(f\"Blog unique visitors, 2023: {sum(unique_readers['2023'].values()):,}\")"
   ]
  },
  {
   "cell_type": "code",
   "execution_count": 19,
   "id": "0cd29f3a-f529-41c0-bb7a-a06b2f49086c",
   "metadata": {},
   "outputs": [
    {
     "name": "stdout",
     "output_type": "stream",
     "text": [
      "Python Blog Unique Visitors All-Time\n"
     ]
    },
    {
     "data": {
      "text/plain": [
       "[('2016', 28),\n",
       " ('2017', 34),\n",
       " ('2018', 377),\n",
       " ('2019', 839),\n",
       " ('2020', 3291),\n",
       " ('2021', 13581),\n",
       " ('2022', 15338),\n",
       " ('2023', 30291)]"
      ]
     },
     "execution_count": 19,
     "metadata": {},
     "output_type": "execute_result"
    }
   ],
   "source": [
    "years = [\"2016\", \"2017\", \"2018\", \"2019\", \"2020\", \"2021\", \"2022\", \"2023\"]\n",
    "counts = [(year, sum(unique_readers[year].values())) for year in years]\n",
    "print(\"Python Blog Unique Visitors All-Time\")\n",
    "counts"
   ]
  },
  {
   "cell_type": "code",
   "execution_count": 20,
   "id": "30d410ca-4023-48cc-987f-85ceedd9992e",
   "metadata": {},
   "outputs": [
    {
     "data": {
      "text/html": [
       "<div>\n",
       "<style scoped>\n",
       "    .dataframe tbody tr th:only-of-type {\n",
       "        vertical-align: middle;\n",
       "    }\n",
       "\n",
       "    .dataframe tbody tr th {\n",
       "        vertical-align: top;\n",
       "    }\n",
       "\n",
       "    .dataframe thead th {\n",
       "        text-align: right;\n",
       "    }\n",
       "</style>\n",
       "<table border=\"1\" class=\"dataframe\">\n",
       "  <thead>\n",
       "    <tr style=\"text-align: right;\">\n",
       "      <th></th>\n",
       "      <th>readers</th>\n",
       "      <th>monthly_average</th>\n",
       "    </tr>\n",
       "  </thead>\n",
       "  <tbody>\n",
       "    <tr>\n",
       "      <th>count</th>\n",
       "      <td>8</td>\n",
       "      <td>8</td>\n",
       "    </tr>\n",
       "    <tr>\n",
       "      <th>mean</th>\n",
       "      <td>7972</td>\n",
       "      <td>692</td>\n",
       "    </tr>\n",
       "    <tr>\n",
       "      <th>std</th>\n",
       "      <td>10957</td>\n",
       "      <td>980</td>\n",
       "    </tr>\n",
       "    <tr>\n",
       "      <th>min</th>\n",
       "      <td>28</td>\n",
       "      <td>2</td>\n",
       "    </tr>\n",
       "    <tr>\n",
       "      <th>25%</th>\n",
       "      <td>291</td>\n",
       "      <td>23</td>\n",
       "    </tr>\n",
       "    <tr>\n",
       "      <th>50%</th>\n",
       "      <td>2065</td>\n",
       "      <td>171</td>\n",
       "    </tr>\n",
       "    <tr>\n",
       "      <th>75%</th>\n",
       "      <td>14020</td>\n",
       "      <td>1167</td>\n",
       "    </tr>\n",
       "    <tr>\n",
       "      <th>max</th>\n",
       "      <td>30291</td>\n",
       "      <td>2753</td>\n",
       "    </tr>\n",
       "  </tbody>\n",
       "</table>\n",
       "</div>"
      ],
      "text/plain": [
       "       readers  monthly_average\n",
       "count        8                8\n",
       "mean      7972              692\n",
       "std      10957              980\n",
       "min         28                2\n",
       "25%        291               23\n",
       "50%       2065              171\n",
       "75%      14020             1167\n",
       "max      30291             2753"
      ]
     },
     "execution_count": 20,
     "metadata": {},
     "output_type": "execute_result"
    }
   ],
   "source": [
    "# Convert annual visitor counts to pandas dataframe and calculate monthly average for each year.\n",
    "readers = pd.DataFrame(counts, columns=[\"year\", \"readers\"])\n",
    "readers[\"monthly_average\"] = readers.readers.apply(lambda num: int(num / 12))\n",
    "# Modify current year average to # of months in 2023 so far.\n",
    "ytd_readers = sum(unique_readers[\"2023\"].values())\n",
    "readers.loc[7, \"monthly_average\"] = int(ytd_readers / 11)\n",
    "readers.describe().astype(int)"
   ]
  },
  {
   "cell_type": "code",
   "execution_count": 21,
   "id": "a91136ef",
   "metadata": {},
   "outputs": [
    {
     "name": "stderr",
     "output_type": "stream",
     "text": [
      "/tmp/ipykernel_4088/203123713.py:6: UserWarning: set_ticklabels() should only be used with a fixed number of ticks, i.e. after set_ticks() or using a FixedLocator.\n",
      "  ax.set_xticklabels(years)\n"
     ]
    },
    {
     "data": {
      "image/png": "[encoded data removed]",
      "text/plain": [
       "<Figure size 640x480 with 1 Axes>"
      ]
     },
     "metadata": {},
     "output_type": "display_data"
    }
   ],
   "source": [
    "# Change color of line to \"light seagreen\".\n",
    "ax = readers.readers.plot.line(\n",
    "    title=\"Total Python Blog Readers Per Month, 2016-2023\", color=\"#20B2AA\"\n",
    ")\n",
    "years = [\"axis filler\"] + list(readers.year)\n",
    "ax.set_xticklabels(years)\n",
    "plt.show()"
   ]
  },
  {
   "cell_type": "code",
   "execution_count": 22,
   "id": "676810b4-ead1-44e5-a7df-df67d5f221a3",
   "metadata": {},
   "outputs": [
    {
     "name": "stderr",
     "output_type": "stream",
     "text": [
      "/tmp/ipykernel_4088/3535215991.py:5: UserWarning: set_ticklabels() should only be used with a fixed number of ticks, i.e. after set_ticks() or using a FixedLocator.\n",
      "  ax.set_xticklabels(years)\n"
     ]
    },
    {
     "data": {
      "image/png": "[encoded data removed]",
      "text/plain": [
       "<Figure size 640x480 with 1 Axes>"
      ]
     },
     "metadata": {},
     "output_type": "display_data"
    }
   ],
   "source": [
    "ax = readers.monthly_average.plot.line( \n",
    "    title=\"Average Python Blog Readers Per Month, 2016-2023\", color=\"#20B2AA\"\n",
    ")\n",
    "years = [\"axis filler\"] + list(readers.year)\n",
    "ax.set_xticklabels(years)\n",
    "plt.show()"
   ]
  },
  {
   "cell_type": "code",
   "execution_count": 23,
   "id": "fbc7cd7e",
   "metadata": {},
   "outputs": [
    {
     "name": "stdout",
     "output_type": "stream",
     "text": [
      "Migrating my blog to a Cloudflare pages free plan saved $48 per year vs. Wordpress Personal plan.\n",
      "Blog visitors are at an all-time high. Average unique readers per month are up 904.74% over 2020, 3 years ago.\n"
     ]
    }
   ],
   "source": [
    "print(\"Migrating my blog to a Cloudflare pages free plan saved $48 per year vs. Wordpress Personal plan.\")\n",
    "three_years_ago = readers.at[4, \"monthly_average\"]\n",
    "now = readers.at[7, \"monthly_average\"]\n",
    "growth = ((now - three_years_ago) / three_years_ago) * 100\n",
    "print(f\"Blog visitors are at an all-time high. Average unique readers per month are up {round(growth, 2)}% over 2020, 3 years ago.\")"
   ]
  },
  {
   "cell_type": "code",
   "execution_count": 24,
   "id": "bad0c70d",
   "metadata": {},
   "outputs": [
    {
     "data": {
      "text/html": [
       "<style type=\"text/css\">\n",
       "</style>\n",
       "<table id=\"T_ab3d3\">\n",
       "  <thead>\n",
       "    <tr>\n",
       "      <th id=\"T_ab3d3_level0_col0\" class=\"col_heading level0 col0\" >year</th>\n",
       "      <th id=\"T_ab3d3_level0_col1\" class=\"col_heading level0 col1\" >readers</th>\n",
       "      <th id=\"T_ab3d3_level0_col2\" class=\"col_heading level0 col2\" >monthly_average</th>\n",
       "    </tr>\n",
       "  </thead>\n",
       "  <tbody>\n",
       "    <tr>\n",
       "      <td id=\"T_ab3d3_row0_col0\" class=\"data row0 col0\" >2016</td>\n",
       "      <td id=\"T_ab3d3_row0_col1\" class=\"data row0 col1\" >28</td>\n",
       "      <td id=\"T_ab3d3_row0_col2\" class=\"data row0 col2\" >2</td>\n",
       "    </tr>\n",
       "    <tr>\n",
       "      <td id=\"T_ab3d3_row1_col0\" class=\"data row1 col0\" >2017</td>\n",
       "      <td id=\"T_ab3d3_row1_col1\" class=\"data row1 col1\" >34</td>\n",
       "      <td id=\"T_ab3d3_row1_col2\" class=\"data row1 col2\" >2</td>\n",
       "    </tr>\n",
       "    <tr>\n",
       "      <td id=\"T_ab3d3_row2_col0\" class=\"data row2 col0\" >2018</td>\n",
       "      <td id=\"T_ab3d3_row2_col1\" class=\"data row2 col1\" >377</td>\n",
       "      <td id=\"T_ab3d3_row2_col2\" class=\"data row2 col2\" >31</td>\n",
       "    </tr>\n",
       "    <tr>\n",
       "      <td id=\"T_ab3d3_row3_col0\" class=\"data row3 col0\" >2019</td>\n",
       "      <td id=\"T_ab3d3_row3_col1\" class=\"data row3 col1\" >839</td>\n",
       "      <td id=\"T_ab3d3_row3_col2\" class=\"data row3 col2\" >69</td>\n",
       "    </tr>\n",
       "    <tr>\n",
       "      <td id=\"T_ab3d3_row4_col0\" class=\"data row4 col0\" >2020</td>\n",
       "      <td id=\"T_ab3d3_row4_col1\" class=\"data row4 col1\" >3,291</td>\n",
       "      <td id=\"T_ab3d3_row4_col2\" class=\"data row4 col2\" >274</td>\n",
       "    </tr>\n",
       "    <tr>\n",
       "      <td id=\"T_ab3d3_row5_col0\" class=\"data row5 col0\" >2021</td>\n",
       "      <td id=\"T_ab3d3_row5_col1\" class=\"data row5 col1\" >13,581</td>\n",
       "      <td id=\"T_ab3d3_row5_col2\" class=\"data row5 col2\" >1,131</td>\n",
       "    </tr>\n",
       "    <tr>\n",
       "      <td id=\"T_ab3d3_row6_col0\" class=\"data row6 col0\" >2022</td>\n",
       "      <td id=\"T_ab3d3_row6_col1\" class=\"data row6 col1\" >15,338</td>\n",
       "      <td id=\"T_ab3d3_row6_col2\" class=\"data row6 col2\" >1,278</td>\n",
       "    </tr>\n",
       "    <tr>\n",
       "      <td id=\"T_ab3d3_row7_col0\" class=\"data row7 col0\" >2023</td>\n",
       "      <td id=\"T_ab3d3_row7_col1\" class=\"data row7 col1\" >30,291</td>\n",
       "      <td id=\"T_ab3d3_row7_col2\" class=\"data row7 col2\" >2,753</td>\n",
       "    </tr>\n",
       "  </tbody>\n",
       "</table>\n"
      ],
      "text/plain": [
       "<pandas.io.formats.style.Styler at 0x7e5cda845a10>"
      ]
     },
     "execution_count": 24,
     "metadata": {},
     "output_type": "execute_result"
    }
   ],
   "source": [
    "# .map requires pandas 2.1.0. Use .applymap for older pandas versions: https://pandas.pydata.org/docs/reference/api/pandas.DataFrame.map.html#pandas.DataFrame.map\n",
    "number_cols = [\"readers\", \"monthly_average\"]\n",
    "readers[number_cols] = readers[number_cols].astype(int).map(lambda num: f\"{num:,}\")\n",
    "readers.style.hide()"
   ]
  }
 ],
 "metadata": {
  "kernelspec": {
   "display_name": "Python 3 (ipykernel)",
   "language": "python",
   "name": "python3"
  },
  "language_info": {
   "codemirror_mode": {
    "name": "ipython",
    "version": 3
   },
   "file_extension": ".py",
   "mimetype": "text/x-python",
   "name": "python",
   "nbconvert_exporter": "python",
   "pygments_lexer": "ipython3",
   "version": "3.11.0"
  }
 },
 "nbformat": 4,
 "nbformat_minor": 5
}
